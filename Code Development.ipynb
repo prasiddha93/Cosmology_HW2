{
 "cells": [
  {
   "cell_type": "code",
   "execution_count": 1,
   "metadata": {
    "collapsed": false
   },
   "outputs": [],
   "source": [
    "import matplotlib.pyplot as plt\n",
    "%matplotlib inline\n",
    "import numpy as np\n",
    "from scipy.integrate import odeint"
   ]
  },
  {
   "cell_type": "code",
   "execution_count": 2,
   "metadata": {
    "collapsed": true
   },
   "outputs": [],
   "source": [
    "tauN = 886.7\n",
    "Q = 1.293 # MeV, mass difference: m_n-m_p\n",
    "H1 = 1.13"
   ]
  },
  {
   "cell_type": "code",
   "execution_count": 3,
   "metadata": {
    "collapsed": true
   },
   "outputs": [],
   "source": [
    "def lambdaNP(x):\n",
    "    return (255./(tauN*x**5.))*(12. + 6.*x + x**2.)   # problem was here?\n",
    "        \n",
    "def f(Xn, x):\n",
    "    #y = Xn\n",
    "    dXndx = ((x*lambdaNP(x))/H1)*(np.exp(-x) - Xn*(1. + np.exp(-x)))\n",
    "    return dXndx"
   ]
  },
  {
   "cell_type": "code",
   "execution_count": 4,
   "metadata": {
    "collapsed": false
   },
   "outputs": [
    {
     "data": {
      "image/png": "[encoded data removed]",
      "text/plain": [
       "<matplotlib.figure.Figure at 0x10888f790>"
      ]
     },
     "metadata": {},
     "output_type": "display_data"
    }
   ],
   "source": [
    "Xn0 = [0.9]\n",
    "\n",
    "T = np.logspace(0,-3, 100)\n",
    "x= Q/T\n",
    "result = odeint(f, Xn0, x)\n",
    "plt.plot(T, result[:,0], 'o', color='b')\n",
    "plt.plot(T, result[:,0], color='b')\n",
    "plt.gca().invert_xaxis()\n",
    "plt.xlabel('T (MeV)')\n",
    "plt.ylabel('Fractional Abundance')\n",
    "plt.xscale('log')\n",
    "plt.yscale('log')\n",
    "plt.show()\n"
   ]
  },
  {
   "cell_type": "code",
   "execution_count": null,
   "metadata": {
    "collapsed": true
   },
   "outputs": [],
   "source": []
  }
 ],
 "metadata": {
  "kernelspec": {
   "display_name": "Python 2",
   "language": "python",
   "name": "python2"
  },
  "language_info": {
   "codemirror_mode": {
    "name": "ipython",
    "version": 2
   },
   "file_extension": ".py",
   "mimetype": "text/x-python",
   "name": "python",
   "nbconvert_exporter": "python",
   "pygments_lexer": "ipython2",
   "version": "2.7.12"
  }
 },
 "nbformat": 4,
 "nbformat_minor": 0
}
